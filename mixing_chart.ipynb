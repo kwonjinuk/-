{
 "cells": [
  {
   "cell_type": "markdown",
   "metadata": {
    "id": "2dBfsRwErfmA"
   },
   "source": [
    "## **1. Data Preparation**"
   ]
  },
  {
   "cell_type": "markdown",
   "metadata": {
    "id": "xwAZ__NeSqpR"
   },
   "source": [
    "1-1. 평가용 data 파일 및 google drive 수동 upload 필요함"
   ]
  },
  {
   "cell_type": "code",
   "execution_count": 2,
   "metadata": {
    "colab": {
     "base_uri": "https://localhost:8080/"
    },
    "id": "TzuEgMlxYPgM",
    "outputId": "79e8e771-f49a-4d9f-f376-35c5d2f61acd"
   },
   "outputs": [
    {
     "name": "stdout",
     "output_type": "stream",
     "text": [
      "/content/drive/MyDrive/Colab Notebooks/mixing_chart\n"
     ]
    }
   ],
   "source": [
    "%cd /content/drive/MyDrive/Colab\\ Notebooks/mixing_chart/"
   ]
  },
  {
   "cell_type": "code",
   "execution_count": 53,
   "metadata": {
    "id": "5MI42d5eYLoY"
   },
   "outputs": [],
   "source": [
    "import matplotlib.pyplot as plt\n",
    "import numpy as np\n",
    "import pandas as pd"
   ]
  },
  {
   "cell_type": "code",
   "execution_count": 200,
   "metadata": {
    "id": "3KLkD4XGYjY8"
   },
   "outputs": [],
   "source": [
    "df = pd.read_csv(\"modified_chart.csv\")"
   ]
  },
  {
   "cell_type": "code",
   "execution_count": 201,
   "metadata": {
    "colab": {
     "base_uri": "https://localhost:8080/",
     "height": 224
    },
    "id": "uu7btG9BYsQ-",
    "outputId": "19b3ac4b-823c-4e46-a176-362c3dd2ab9f"
   },
   "outputs": [
    {
     "data": {
      "text/html": [
       "<div>\n",
       "<style scoped>\n",
       "    .dataframe tbody tr th:only-of-type {\n",
       "        vertical-align: middle;\n",
       "    }\n",
       "\n",
       "    .dataframe tbody tr th {\n",
       "        vertical-align: top;\n",
       "    }\n",
       "\n",
       "    .dataframe thead th {\n",
       "        text-align: right;\n",
       "    }\n",
       "</style>\n",
       "<table border=\"1\" class=\"dataframe\">\n",
       "  <thead>\n",
       "    <tr style=\"text-align: right;\">\n",
       "      <th></th>\n",
       "      <th>s1</th>\n",
       "      <th>s2</th>\n",
       "      <th>s3</th>\n",
       "      <th>s4</th>\n",
       "      <th>s5</th>\n",
       "      <th>s6</th>\n",
       "      <th>s7</th>\n",
       "      <th>s8</th>\n",
       "      <th>s9</th>\n",
       "      <th>s10</th>\n",
       "      <th>s11</th>\n",
       "      <th>s12</th>\n",
       "      <th>s13</th>\n",
       "      <th>s14</th>\n",
       "      <th>s15</th>\n",
       "      <th>s16</th>\n",
       "      <th>s17</th>\n",
       "      <th>s18</th>\n",
       "      <th>s19</th>\n",
       "      <th>s20</th>\n",
       "      <th>s21</th>\n",
       "      <th>s22</th>\n",
       "      <th>s23</th>\n",
       "      <th>s24</th>\n",
       "      <th>s25</th>\n",
       "      <th>s26</th>\n",
       "      <th>s27</th>\n",
       "      <th>s28</th>\n",
       "      <th>s29</th>\n",
       "      <th>s30</th>\n",
       "      <th>s31</th>\n",
       "      <th>s32</th>\n",
       "      <th>s33</th>\n",
       "      <th>s34</th>\n",
       "      <th>s35</th>\n",
       "      <th>s36</th>\n",
       "      <th>s37</th>\n",
       "      <th>s38</th>\n",
       "      <th>s39</th>\n",
       "      <th>s40</th>\n",
       "      <th>s41</th>\n",
       "      <th>s42</th>\n",
       "      <th>s43</th>\n",
       "      <th>s44</th>\n",
       "      <th>s45</th>\n",
       "      <th>s46</th>\n",
       "      <th>s47</th>\n",
       "      <th>s48</th>\n",
       "      <th>s49</th>\n",
       "      <th>s50</th>\n",
       "      <th>s51</th>\n",
       "      <th>s52</th>\n",
       "      <th>s53</th>\n",
       "      <th>s54</th>\n",
       "      <th>s55</th>\n",
       "      <th>s56</th>\n",
       "      <th>s57</th>\n",
       "      <th>s58</th>\n",
       "      <th>s59</th>\n",
       "      <th>s60</th>\n",
       "      <th>s61</th>\n",
       "      <th>s62</th>\n",
       "      <th>s63</th>\n",
       "      <th>s64</th>\n",
       "      <th>s65</th>\n",
       "      <th>s66</th>\n",
       "      <th>s67</th>\n",
       "      <th>s68</th>\n",
       "      <th>s69</th>\n",
       "      <th>s70</th>\n",
       "      <th>s71</th>\n",
       "      <th>s72</th>\n",
       "      <th>s73</th>\n",
       "      <th>ml</th>\n",
       "      <th>tmin</th>\n",
       "      <th>tmax</th>\n",
       "      <th>t90</th>\n",
       "      <th>M300</th>\n",
       "    </tr>\n",
       "  </thead>\n",
       "  <tbody>\n",
       "    <tr>\n",
       "      <th>0</th>\n",
       "      <td>16</td>\n",
       "      <td>16</td>\n",
       "      <td>16</td>\n",
       "      <td>16</td>\n",
       "      <td>16</td>\n",
       "      <td>37</td>\n",
       "      <td>106</td>\n",
       "      <td>215</td>\n",
       "      <td>232</td>\n",
       "      <td>255</td>\n",
       "      <td>387</td>\n",
       "      <td>387</td>\n",
       "      <td>404</td>\n",
       "      <td>404</td>\n",
       "      <td>381</td>\n",
       "      <td>386</td>\n",
       "      <td>370</td>\n",
       "      <td>331</td>\n",
       "      <td>331</td>\n",
       "      <td>340</td>\n",
       "      <td>370</td>\n",
       "      <td>418</td>\n",
       "      <td>394</td>\n",
       "      <td>408</td>\n",
       "      <td>406</td>\n",
       "      <td>388</td>\n",
       "      <td>411</td>\n",
       "      <td>398</td>\n",
       "      <td>398</td>\n",
       "      <td>388</td>\n",
       "      <td>401</td>\n",
       "      <td>373</td>\n",
       "      <td>386</td>\n",
       "      <td>332</td>\n",
       "      <td>332</td>\n",
       "      <td>193</td>\n",
       "      <td>182</td>\n",
       "      <td>178</td>\n",
       "      <td>194</td>\n",
       "      <td>238</td>\n",
       "      <td>259</td>\n",
       "      <td>294</td>\n",
       "      <td>332</td>\n",
       "      <td>345</td>\n",
       "      <td>387</td>\n",
       "      <td>391</td>\n",
       "      <td>417</td>\n",
       "      <td>408</td>\n",
       "      <td>412</td>\n",
       "      <td>423</td>\n",
       "      <td>406</td>\n",
       "      <td>423</td>\n",
       "      <td>411</td>\n",
       "      <td>429</td>\n",
       "      <td>423</td>\n",
       "      <td>420</td>\n",
       "      <td>434</td>\n",
       "      <td>417</td>\n",
       "      <td>417</td>\n",
       "      <td>417</td>\n",
       "      <td>345</td>\n",
       "      <td>185</td>\n",
       "      <td>185</td>\n",
       "      <td>159</td>\n",
       "      <td>191</td>\n",
       "      <td>231</td>\n",
       "      <td>264</td>\n",
       "      <td>281</td>\n",
       "      <td>314</td>\n",
       "      <td>347</td>\n",
       "      <td>363</td>\n",
       "      <td>357</td>\n",
       "      <td>363</td>\n",
       "      <td>54.9</td>\n",
       "      <td>3.12</td>\n",
       "      <td>23.93</td>\n",
       "      <td>8.10</td>\n",
       "      <td>106.0</td>\n",
       "    </tr>\n",
       "    <tr>\n",
       "      <th>1</th>\n",
       "      <td>27</td>\n",
       "      <td>263</td>\n",
       "      <td>263</td>\n",
       "      <td>419</td>\n",
       "      <td>498</td>\n",
       "      <td>498</td>\n",
       "      <td>498</td>\n",
       "      <td>510</td>\n",
       "      <td>464</td>\n",
       "      <td>410</td>\n",
       "      <td>421</td>\n",
       "      <td>403</td>\n",
       "      <td>403</td>\n",
       "      <td>394</td>\n",
       "      <td>446</td>\n",
       "      <td>462</td>\n",
       "      <td>505</td>\n",
       "      <td>505</td>\n",
       "      <td>465</td>\n",
       "      <td>465</td>\n",
       "      <td>476</td>\n",
       "      <td>444</td>\n",
       "      <td>444</td>\n",
       "      <td>440</td>\n",
       "      <td>446</td>\n",
       "      <td>428</td>\n",
       "      <td>414</td>\n",
       "      <td>414</td>\n",
       "      <td>414</td>\n",
       "      <td>373</td>\n",
       "      <td>283</td>\n",
       "      <td>237</td>\n",
       "      <td>148</td>\n",
       "      <td>170</td>\n",
       "      <td>207</td>\n",
       "      <td>243</td>\n",
       "      <td>294</td>\n",
       "      <td>294</td>\n",
       "      <td>353</td>\n",
       "      <td>389</td>\n",
       "      <td>384</td>\n",
       "      <td>412</td>\n",
       "      <td>418</td>\n",
       "      <td>428</td>\n",
       "      <td>414</td>\n",
       "      <td>416</td>\n",
       "      <td>414</td>\n",
       "      <td>414</td>\n",
       "      <td>430</td>\n",
       "      <td>426</td>\n",
       "      <td>412</td>\n",
       "      <td>416</td>\n",
       "      <td>416</td>\n",
       "      <td>420</td>\n",
       "      <td>330</td>\n",
       "      <td>330</td>\n",
       "      <td>208</td>\n",
       "      <td>208</td>\n",
       "      <td>208</td>\n",
       "      <td>237</td>\n",
       "      <td>237</td>\n",
       "      <td>274</td>\n",
       "      <td>302</td>\n",
       "      <td>317</td>\n",
       "      <td>347</td>\n",
       "      <td>347</td>\n",
       "      <td>350</td>\n",
       "      <td>336</td>\n",
       "      <td>359</td>\n",
       "      <td>339</td>\n",
       "      <td>339</td>\n",
       "      <td>341</td>\n",
       "      <td>323</td>\n",
       "      <td>56.0</td>\n",
       "      <td>3.15</td>\n",
       "      <td>23.89</td>\n",
       "      <td>7.95</td>\n",
       "      <td>103.0</td>\n",
       "    </tr>\n",
       "    <tr>\n",
       "      <th>2</th>\n",
       "      <td>16</td>\n",
       "      <td>18</td>\n",
       "      <td>83</td>\n",
       "      <td>275</td>\n",
       "      <td>406</td>\n",
       "      <td>467</td>\n",
       "      <td>558</td>\n",
       "      <td>565</td>\n",
       "      <td>584</td>\n",
       "      <td>584</td>\n",
       "      <td>515</td>\n",
       "      <td>453</td>\n",
       "      <td>451</td>\n",
       "      <td>429</td>\n",
       "      <td>429</td>\n",
       "      <td>440</td>\n",
       "      <td>488</td>\n",
       "      <td>474</td>\n",
       "      <td>522</td>\n",
       "      <td>490</td>\n",
       "      <td>484</td>\n",
       "      <td>501</td>\n",
       "      <td>462</td>\n",
       "      <td>455</td>\n",
       "      <td>455</td>\n",
       "      <td>449</td>\n",
       "      <td>436</td>\n",
       "      <td>438</td>\n",
       "      <td>428</td>\n",
       "      <td>428</td>\n",
       "      <td>428</td>\n",
       "      <td>234</td>\n",
       "      <td>257</td>\n",
       "      <td>257</td>\n",
       "      <td>257</td>\n",
       "      <td>270</td>\n",
       "      <td>339</td>\n",
       "      <td>353</td>\n",
       "      <td>383</td>\n",
       "      <td>392</td>\n",
       "      <td>385</td>\n",
       "      <td>403</td>\n",
       "      <td>398</td>\n",
       "      <td>406</td>\n",
       "      <td>406</td>\n",
       "      <td>402</td>\n",
       "      <td>413</td>\n",
       "      <td>396</td>\n",
       "      <td>406</td>\n",
       "      <td>396</td>\n",
       "      <td>385</td>\n",
       "      <td>403</td>\n",
       "      <td>390</td>\n",
       "      <td>402</td>\n",
       "      <td>402</td>\n",
       "      <td>402</td>\n",
       "      <td>230</td>\n",
       "      <td>230</td>\n",
       "      <td>230</td>\n",
       "      <td>201</td>\n",
       "      <td>208</td>\n",
       "      <td>264</td>\n",
       "      <td>284</td>\n",
       "      <td>307</td>\n",
       "      <td>307</td>\n",
       "      <td>329</td>\n",
       "      <td>320</td>\n",
       "      <td>339</td>\n",
       "      <td>339</td>\n",
       "      <td>321</td>\n",
       "      <td>332</td>\n",
       "      <td>318</td>\n",
       "      <td>325</td>\n",
       "      <td>56.9</td>\n",
       "      <td>3.36</td>\n",
       "      <td>22.69</td>\n",
       "      <td>8.20</td>\n",
       "      <td>105.0</td>\n",
       "    </tr>\n",
       "    <tr>\n",
       "      <th>3</th>\n",
       "      <td>49</td>\n",
       "      <td>61</td>\n",
       "      <td>76</td>\n",
       "      <td>76</td>\n",
       "      <td>589</td>\n",
       "      <td>589</td>\n",
       "      <td>512</td>\n",
       "      <td>512</td>\n",
       "      <td>488</td>\n",
       "      <td>485</td>\n",
       "      <td>406</td>\n",
       "      <td>400</td>\n",
       "      <td>400</td>\n",
       "      <td>422</td>\n",
       "      <td>418</td>\n",
       "      <td>428</td>\n",
       "      <td>459</td>\n",
       "      <td>481</td>\n",
       "      <td>444</td>\n",
       "      <td>521</td>\n",
       "      <td>492</td>\n",
       "      <td>477</td>\n",
       "      <td>471</td>\n",
       "      <td>472</td>\n",
       "      <td>486</td>\n",
       "      <td>464</td>\n",
       "      <td>459</td>\n",
       "      <td>465</td>\n",
       "      <td>375</td>\n",
       "      <td>261</td>\n",
       "      <td>261</td>\n",
       "      <td>213</td>\n",
       "      <td>213</td>\n",
       "      <td>252</td>\n",
       "      <td>270</td>\n",
       "      <td>317</td>\n",
       "      <td>387</td>\n",
       "      <td>406</td>\n",
       "      <td>389</td>\n",
       "      <td>407</td>\n",
       "      <td>422</td>\n",
       "      <td>402</td>\n",
       "      <td>418</td>\n",
       "      <td>404</td>\n",
       "      <td>401</td>\n",
       "      <td>416</td>\n",
       "      <td>409</td>\n",
       "      <td>409</td>\n",
       "      <td>391</td>\n",
       "      <td>412</td>\n",
       "      <td>405</td>\n",
       "      <td>412</td>\n",
       "      <td>412</td>\n",
       "      <td>399</td>\n",
       "      <td>374</td>\n",
       "      <td>291</td>\n",
       "      <td>245</td>\n",
       "      <td>224</td>\n",
       "      <td>213</td>\n",
       "      <td>204</td>\n",
       "      <td>225</td>\n",
       "      <td>269</td>\n",
       "      <td>299</td>\n",
       "      <td>322</td>\n",
       "      <td>336</td>\n",
       "      <td>329</td>\n",
       "      <td>340</td>\n",
       "      <td>337</td>\n",
       "      <td>333</td>\n",
       "      <td>340</td>\n",
       "      <td>343</td>\n",
       "      <td>337</td>\n",
       "      <td>337</td>\n",
       "      <td>53.9</td>\n",
       "      <td>3.14</td>\n",
       "      <td>23.74</td>\n",
       "      <td>10.35</td>\n",
       "      <td>94.0</td>\n",
       "    </tr>\n",
       "    <tr>\n",
       "      <th>4</th>\n",
       "      <td>46</td>\n",
       "      <td>68</td>\n",
       "      <td>86</td>\n",
       "      <td>86</td>\n",
       "      <td>86</td>\n",
       "      <td>68</td>\n",
       "      <td>536</td>\n",
       "      <td>536</td>\n",
       "      <td>581</td>\n",
       "      <td>610</td>\n",
       "      <td>559</td>\n",
       "      <td>494</td>\n",
       "      <td>412</td>\n",
       "      <td>412</td>\n",
       "      <td>406</td>\n",
       "      <td>471</td>\n",
       "      <td>509</td>\n",
       "      <td>527</td>\n",
       "      <td>501</td>\n",
       "      <td>553</td>\n",
       "      <td>515</td>\n",
       "      <td>518</td>\n",
       "      <td>498</td>\n",
       "      <td>498</td>\n",
       "      <td>513</td>\n",
       "      <td>521</td>\n",
       "      <td>514</td>\n",
       "      <td>493</td>\n",
       "      <td>501</td>\n",
       "      <td>470</td>\n",
       "      <td>405</td>\n",
       "      <td>279</td>\n",
       "      <td>245</td>\n",
       "      <td>221</td>\n",
       "      <td>195</td>\n",
       "      <td>232</td>\n",
       "      <td>263</td>\n",
       "      <td>339</td>\n",
       "      <td>339</td>\n",
       "      <td>393</td>\n",
       "      <td>398</td>\n",
       "      <td>412</td>\n",
       "      <td>422</td>\n",
       "      <td>406</td>\n",
       "      <td>427</td>\n",
       "      <td>431</td>\n",
       "      <td>423</td>\n",
       "      <td>425</td>\n",
       "      <td>425</td>\n",
       "      <td>444</td>\n",
       "      <td>431</td>\n",
       "      <td>439</td>\n",
       "      <td>442</td>\n",
       "      <td>442</td>\n",
       "      <td>450</td>\n",
       "      <td>439</td>\n",
       "      <td>375</td>\n",
       "      <td>301</td>\n",
       "      <td>224</td>\n",
       "      <td>224</td>\n",
       "      <td>216</td>\n",
       "      <td>211</td>\n",
       "      <td>237</td>\n",
       "      <td>265</td>\n",
       "      <td>290</td>\n",
       "      <td>315</td>\n",
       "      <td>340</td>\n",
       "      <td>346</td>\n",
       "      <td>356</td>\n",
       "      <td>363</td>\n",
       "      <td>349</td>\n",
       "      <td>354</td>\n",
       "      <td>352</td>\n",
       "      <td>54.4</td>\n",
       "      <td>3.11</td>\n",
       "      <td>24.85</td>\n",
       "      <td>8.17</td>\n",
       "      <td>102.0</td>\n",
       "    </tr>\n",
       "  </tbody>\n",
       "</table>\n",
       "</div>"
      ],
      "text/plain": [
       "   s1   s2   s3   s4   s5   s6   s7  ...  s72  s73    ml  tmin   tmax    t90   M300\n",
       "0  16   16   16   16   16   37  106  ...  357  363  54.9  3.12  23.93   8.10  106.0\n",
       "1  27  263  263  419  498  498  498  ...  341  323  56.0  3.15  23.89   7.95  103.0\n",
       "2  16   18   83  275  406  467  558  ...  318  325  56.9  3.36  22.69   8.20  105.0\n",
       "3  49   61   76   76  589  589  512  ...  337  337  53.9  3.14  23.74  10.35   94.0\n",
       "4  46   68   86   86   86   68  536  ...  354  352  54.4  3.11  24.85   8.17  102.0\n",
       "\n",
       "[5 rows x 78 columns]"
      ]
     },
     "execution_count": 201,
     "metadata": {
      "tags": []
     },
     "output_type": "execute_result"
    }
   ],
   "source": [
    "df.head()"
   ]
  },
  {
   "cell_type": "markdown",
   "metadata": {
    "id": "5r54Q_6eYz0b"
   },
   "source": [
    "1-2. Tmax를 예측하기 위해, Tmin, ml, t90, M300 물성 제외"
   ]
  },
  {
   "cell_type": "code",
   "execution_count": 202,
   "metadata": {
    "id": "sKvATRElYv0T"
   },
   "outputs": [],
   "source": [
    "df2 = df.drop(columns = [\"ml\", \"tmin\", \"t90\", \"M300\"])"
   ]
  },
  {
   "cell_type": "code",
   "execution_count": 203,
   "metadata": {
    "colab": {
     "base_uri": "https://localhost:8080/",
     "height": 224
    },
    "id": "NaHQaEGYYwAC",
    "outputId": "86928823-c478-4c82-ba06-cd50f281d40e"
   },
   "outputs": [
    {
     "data": {
      "text/html": [
       "<div>\n",
       "<style scoped>\n",
       "    .dataframe tbody tr th:only-of-type {\n",
       "        vertical-align: middle;\n",
       "    }\n",
       "\n",
       "    .dataframe tbody tr th {\n",
       "        vertical-align: top;\n",
       "    }\n",
       "\n",
       "    .dataframe thead th {\n",
       "        text-align: right;\n",
       "    }\n",
       "</style>\n",
       "<table border=\"1\" class=\"dataframe\">\n",
       "  <thead>\n",
       "    <tr style=\"text-align: right;\">\n",
       "      <th></th>\n",
       "      <th>s1</th>\n",
       "      <th>s2</th>\n",
       "      <th>s3</th>\n",
       "      <th>s4</th>\n",
       "      <th>s5</th>\n",
       "      <th>s6</th>\n",
       "      <th>s7</th>\n",
       "      <th>s8</th>\n",
       "      <th>s9</th>\n",
       "      <th>s10</th>\n",
       "      <th>s11</th>\n",
       "      <th>s12</th>\n",
       "      <th>s13</th>\n",
       "      <th>s14</th>\n",
       "      <th>s15</th>\n",
       "      <th>s16</th>\n",
       "      <th>s17</th>\n",
       "      <th>s18</th>\n",
       "      <th>s19</th>\n",
       "      <th>s20</th>\n",
       "      <th>s21</th>\n",
       "      <th>s22</th>\n",
       "      <th>s23</th>\n",
       "      <th>s24</th>\n",
       "      <th>s25</th>\n",
       "      <th>s26</th>\n",
       "      <th>s27</th>\n",
       "      <th>s28</th>\n",
       "      <th>s29</th>\n",
       "      <th>s30</th>\n",
       "      <th>s31</th>\n",
       "      <th>s32</th>\n",
       "      <th>s33</th>\n",
       "      <th>s34</th>\n",
       "      <th>s35</th>\n",
       "      <th>s36</th>\n",
       "      <th>s37</th>\n",
       "      <th>s38</th>\n",
       "      <th>s39</th>\n",
       "      <th>s40</th>\n",
       "      <th>s41</th>\n",
       "      <th>s42</th>\n",
       "      <th>s43</th>\n",
       "      <th>s44</th>\n",
       "      <th>s45</th>\n",
       "      <th>s46</th>\n",
       "      <th>s47</th>\n",
       "      <th>s48</th>\n",
       "      <th>s49</th>\n",
       "      <th>s50</th>\n",
       "      <th>s51</th>\n",
       "      <th>s52</th>\n",
       "      <th>s53</th>\n",
       "      <th>s54</th>\n",
       "      <th>s55</th>\n",
       "      <th>s56</th>\n",
       "      <th>s57</th>\n",
       "      <th>s58</th>\n",
       "      <th>s59</th>\n",
       "      <th>s60</th>\n",
       "      <th>s61</th>\n",
       "      <th>s62</th>\n",
       "      <th>s63</th>\n",
       "      <th>s64</th>\n",
       "      <th>s65</th>\n",
       "      <th>s66</th>\n",
       "      <th>s67</th>\n",
       "      <th>s68</th>\n",
       "      <th>s69</th>\n",
       "      <th>s70</th>\n",
       "      <th>s71</th>\n",
       "      <th>s72</th>\n",
       "      <th>s73</th>\n",
       "      <th>tmax</th>\n",
       "    </tr>\n",
       "  </thead>\n",
       "  <tbody>\n",
       "    <tr>\n",
       "      <th>0</th>\n",
       "      <td>16</td>\n",
       "      <td>16</td>\n",
       "      <td>16</td>\n",
       "      <td>16</td>\n",
       "      <td>16</td>\n",
       "      <td>37</td>\n",
       "      <td>106</td>\n",
       "      <td>215</td>\n",
       "      <td>232</td>\n",
       "      <td>255</td>\n",
       "      <td>387</td>\n",
       "      <td>387</td>\n",
       "      <td>404</td>\n",
       "      <td>404</td>\n",
       "      <td>381</td>\n",
       "      <td>386</td>\n",
       "      <td>370</td>\n",
       "      <td>331</td>\n",
       "      <td>331</td>\n",
       "      <td>340</td>\n",
       "      <td>370</td>\n",
       "      <td>418</td>\n",
       "      <td>394</td>\n",
       "      <td>408</td>\n",
       "      <td>406</td>\n",
       "      <td>388</td>\n",
       "      <td>411</td>\n",
       "      <td>398</td>\n",
       "      <td>398</td>\n",
       "      <td>388</td>\n",
       "      <td>401</td>\n",
       "      <td>373</td>\n",
       "      <td>386</td>\n",
       "      <td>332</td>\n",
       "      <td>332</td>\n",
       "      <td>193</td>\n",
       "      <td>182</td>\n",
       "      <td>178</td>\n",
       "      <td>194</td>\n",
       "      <td>238</td>\n",
       "      <td>259</td>\n",
       "      <td>294</td>\n",
       "      <td>332</td>\n",
       "      <td>345</td>\n",
       "      <td>387</td>\n",
       "      <td>391</td>\n",
       "      <td>417</td>\n",
       "      <td>408</td>\n",
       "      <td>412</td>\n",
       "      <td>423</td>\n",
       "      <td>406</td>\n",
       "      <td>423</td>\n",
       "      <td>411</td>\n",
       "      <td>429</td>\n",
       "      <td>423</td>\n",
       "      <td>420</td>\n",
       "      <td>434</td>\n",
       "      <td>417</td>\n",
       "      <td>417</td>\n",
       "      <td>417</td>\n",
       "      <td>345</td>\n",
       "      <td>185</td>\n",
       "      <td>185</td>\n",
       "      <td>159</td>\n",
       "      <td>191</td>\n",
       "      <td>231</td>\n",
       "      <td>264</td>\n",
       "      <td>281</td>\n",
       "      <td>314</td>\n",
       "      <td>347</td>\n",
       "      <td>363</td>\n",
       "      <td>357</td>\n",
       "      <td>363</td>\n",
       "      <td>23.93</td>\n",
       "    </tr>\n",
       "    <tr>\n",
       "      <th>1</th>\n",
       "      <td>27</td>\n",
       "      <td>263</td>\n",
       "      <td>263</td>\n",
       "      <td>419</td>\n",
       "      <td>498</td>\n",
       "      <td>498</td>\n",
       "      <td>498</td>\n",
       "      <td>510</td>\n",
       "      <td>464</td>\n",
       "      <td>410</td>\n",
       "      <td>421</td>\n",
       "      <td>403</td>\n",
       "      <td>403</td>\n",
       "      <td>394</td>\n",
       "      <td>446</td>\n",
       "      <td>462</td>\n",
       "      <td>505</td>\n",
       "      <td>505</td>\n",
       "      <td>465</td>\n",
       "      <td>465</td>\n",
       "      <td>476</td>\n",
       "      <td>444</td>\n",
       "      <td>444</td>\n",
       "      <td>440</td>\n",
       "      <td>446</td>\n",
       "      <td>428</td>\n",
       "      <td>414</td>\n",
       "      <td>414</td>\n",
       "      <td>414</td>\n",
       "      <td>373</td>\n",
       "      <td>283</td>\n",
       "      <td>237</td>\n",
       "      <td>148</td>\n",
       "      <td>170</td>\n",
       "      <td>207</td>\n",
       "      <td>243</td>\n",
       "      <td>294</td>\n",
       "      <td>294</td>\n",
       "      <td>353</td>\n",
       "      <td>389</td>\n",
       "      <td>384</td>\n",
       "      <td>412</td>\n",
       "      <td>418</td>\n",
       "      <td>428</td>\n",
       "      <td>414</td>\n",
       "      <td>416</td>\n",
       "      <td>414</td>\n",
       "      <td>414</td>\n",
       "      <td>430</td>\n",
       "      <td>426</td>\n",
       "      <td>412</td>\n",
       "      <td>416</td>\n",
       "      <td>416</td>\n",
       "      <td>420</td>\n",
       "      <td>330</td>\n",
       "      <td>330</td>\n",
       "      <td>208</td>\n",
       "      <td>208</td>\n",
       "      <td>208</td>\n",
       "      <td>237</td>\n",
       "      <td>237</td>\n",
       "      <td>274</td>\n",
       "      <td>302</td>\n",
       "      <td>317</td>\n",
       "      <td>347</td>\n",
       "      <td>347</td>\n",
       "      <td>350</td>\n",
       "      <td>336</td>\n",
       "      <td>359</td>\n",
       "      <td>339</td>\n",
       "      <td>339</td>\n",
       "      <td>341</td>\n",
       "      <td>323</td>\n",
       "      <td>23.89</td>\n",
       "    </tr>\n",
       "    <tr>\n",
       "      <th>2</th>\n",
       "      <td>16</td>\n",
       "      <td>18</td>\n",
       "      <td>83</td>\n",
       "      <td>275</td>\n",
       "      <td>406</td>\n",
       "      <td>467</td>\n",
       "      <td>558</td>\n",
       "      <td>565</td>\n",
       "      <td>584</td>\n",
       "      <td>584</td>\n",
       "      <td>515</td>\n",
       "      <td>453</td>\n",
       "      <td>451</td>\n",
       "      <td>429</td>\n",
       "      <td>429</td>\n",
       "      <td>440</td>\n",
       "      <td>488</td>\n",
       "      <td>474</td>\n",
       "      <td>522</td>\n",
       "      <td>490</td>\n",
       "      <td>484</td>\n",
       "      <td>501</td>\n",
       "      <td>462</td>\n",
       "      <td>455</td>\n",
       "      <td>455</td>\n",
       "      <td>449</td>\n",
       "      <td>436</td>\n",
       "      <td>438</td>\n",
       "      <td>428</td>\n",
       "      <td>428</td>\n",
       "      <td>428</td>\n",
       "      <td>234</td>\n",
       "      <td>257</td>\n",
       "      <td>257</td>\n",
       "      <td>257</td>\n",
       "      <td>270</td>\n",
       "      <td>339</td>\n",
       "      <td>353</td>\n",
       "      <td>383</td>\n",
       "      <td>392</td>\n",
       "      <td>385</td>\n",
       "      <td>403</td>\n",
       "      <td>398</td>\n",
       "      <td>406</td>\n",
       "      <td>406</td>\n",
       "      <td>402</td>\n",
       "      <td>413</td>\n",
       "      <td>396</td>\n",
       "      <td>406</td>\n",
       "      <td>396</td>\n",
       "      <td>385</td>\n",
       "      <td>403</td>\n",
       "      <td>390</td>\n",
       "      <td>402</td>\n",
       "      <td>402</td>\n",
       "      <td>402</td>\n",
       "      <td>230</td>\n",
       "      <td>230</td>\n",
       "      <td>230</td>\n",
       "      <td>201</td>\n",
       "      <td>208</td>\n",
       "      <td>264</td>\n",
       "      <td>284</td>\n",
       "      <td>307</td>\n",
       "      <td>307</td>\n",
       "      <td>329</td>\n",
       "      <td>320</td>\n",
       "      <td>339</td>\n",
       "      <td>339</td>\n",
       "      <td>321</td>\n",
       "      <td>332</td>\n",
       "      <td>318</td>\n",
       "      <td>325</td>\n",
       "      <td>22.69</td>\n",
       "    </tr>\n",
       "    <tr>\n",
       "      <th>3</th>\n",
       "      <td>49</td>\n",
       "      <td>61</td>\n",
       "      <td>76</td>\n",
       "      <td>76</td>\n",
       "      <td>589</td>\n",
       "      <td>589</td>\n",
       "      <td>512</td>\n",
       "      <td>512</td>\n",
       "      <td>488</td>\n",
       "      <td>485</td>\n",
       "      <td>406</td>\n",
       "      <td>400</td>\n",
       "      <td>400</td>\n",
       "      <td>422</td>\n",
       "      <td>418</td>\n",
       "      <td>428</td>\n",
       "      <td>459</td>\n",
       "      <td>481</td>\n",
       "      <td>444</td>\n",
       "      <td>521</td>\n",
       "      <td>492</td>\n",
       "      <td>477</td>\n",
       "      <td>471</td>\n",
       "      <td>472</td>\n",
       "      <td>486</td>\n",
       "      <td>464</td>\n",
       "      <td>459</td>\n",
       "      <td>465</td>\n",
       "      <td>375</td>\n",
       "      <td>261</td>\n",
       "      <td>261</td>\n",
       "      <td>213</td>\n",
       "      <td>213</td>\n",
       "      <td>252</td>\n",
       "      <td>270</td>\n",
       "      <td>317</td>\n",
       "      <td>387</td>\n",
       "      <td>406</td>\n",
       "      <td>389</td>\n",
       "      <td>407</td>\n",
       "      <td>422</td>\n",
       "      <td>402</td>\n",
       "      <td>418</td>\n",
       "      <td>404</td>\n",
       "      <td>401</td>\n",
       "      <td>416</td>\n",
       "      <td>409</td>\n",
       "      <td>409</td>\n",
       "      <td>391</td>\n",
       "      <td>412</td>\n",
       "      <td>405</td>\n",
       "      <td>412</td>\n",
       "      <td>412</td>\n",
       "      <td>399</td>\n",
       "      <td>374</td>\n",
       "      <td>291</td>\n",
       "      <td>245</td>\n",
       "      <td>224</td>\n",
       "      <td>213</td>\n",
       "      <td>204</td>\n",
       "      <td>225</td>\n",
       "      <td>269</td>\n",
       "      <td>299</td>\n",
       "      <td>322</td>\n",
       "      <td>336</td>\n",
       "      <td>329</td>\n",
       "      <td>340</td>\n",
       "      <td>337</td>\n",
       "      <td>333</td>\n",
       "      <td>340</td>\n",
       "      <td>343</td>\n",
       "      <td>337</td>\n",
       "      <td>337</td>\n",
       "      <td>23.74</td>\n",
       "    </tr>\n",
       "    <tr>\n",
       "      <th>4</th>\n",
       "      <td>46</td>\n",
       "      <td>68</td>\n",
       "      <td>86</td>\n",
       "      <td>86</td>\n",
       "      <td>86</td>\n",
       "      <td>68</td>\n",
       "      <td>536</td>\n",
       "      <td>536</td>\n",
       "      <td>581</td>\n",
       "      <td>610</td>\n",
       "      <td>559</td>\n",
       "      <td>494</td>\n",
       "      <td>412</td>\n",
       "      <td>412</td>\n",
       "      <td>406</td>\n",
       "      <td>471</td>\n",
       "      <td>509</td>\n",
       "      <td>527</td>\n",
       "      <td>501</td>\n",
       "      <td>553</td>\n",
       "      <td>515</td>\n",
       "      <td>518</td>\n",
       "      <td>498</td>\n",
       "      <td>498</td>\n",
       "      <td>513</td>\n",
       "      <td>521</td>\n",
       "      <td>514</td>\n",
       "      <td>493</td>\n",
       "      <td>501</td>\n",
       "      <td>470</td>\n",
       "      <td>405</td>\n",
       "      <td>279</td>\n",
       "      <td>245</td>\n",
       "      <td>221</td>\n",
       "      <td>195</td>\n",
       "      <td>232</td>\n",
       "      <td>263</td>\n",
       "      <td>339</td>\n",
       "      <td>339</td>\n",
       "      <td>393</td>\n",
       "      <td>398</td>\n",
       "      <td>412</td>\n",
       "      <td>422</td>\n",
       "      <td>406</td>\n",
       "      <td>427</td>\n",
       "      <td>431</td>\n",
       "      <td>423</td>\n",
       "      <td>425</td>\n",
       "      <td>425</td>\n",
       "      <td>444</td>\n",
       "      <td>431</td>\n",
       "      <td>439</td>\n",
       "      <td>442</td>\n",
       "      <td>442</td>\n",
       "      <td>450</td>\n",
       "      <td>439</td>\n",
       "      <td>375</td>\n",
       "      <td>301</td>\n",
       "      <td>224</td>\n",
       "      <td>224</td>\n",
       "      <td>216</td>\n",
       "      <td>211</td>\n",
       "      <td>237</td>\n",
       "      <td>265</td>\n",
       "      <td>290</td>\n",
       "      <td>315</td>\n",
       "      <td>340</td>\n",
       "      <td>346</td>\n",
       "      <td>356</td>\n",
       "      <td>363</td>\n",
       "      <td>349</td>\n",
       "      <td>354</td>\n",
       "      <td>352</td>\n",
       "      <td>24.85</td>\n",
       "    </tr>\n",
       "  </tbody>\n",
       "</table>\n",
       "</div>"
      ],
      "text/plain": [
       "   s1   s2   s3   s4   s5   s6   s7  ...  s68  s69  s70  s71  s72  s73   tmax\n",
       "0  16   16   16   16   16   37  106  ...  281  314  347  363  357  363  23.93\n",
       "1  27  263  263  419  498  498  498  ...  336  359  339  339  341  323  23.89\n",
       "2  16   18   83  275  406  467  558  ...  339  339  321  332  318  325  22.69\n",
       "3  49   61   76   76  589  589  512  ...  337  333  340  343  337  337  23.74\n",
       "4  46   68   86   86   86   68  536  ...  346  356  363  349  354  352  24.85\n",
       "\n",
       "[5 rows x 74 columns]"
      ]
     },
     "execution_count": 203,
     "metadata": {
      "tags": []
     },
     "output_type": "execute_result"
    }
   ],
   "source": [
    "df2.head()"
   ]
  },
  {
   "cell_type": "markdown",
   "metadata": {
    "id": "qX0E62fsZk4F"
   },
   "source": [
    "1-3. Train, Test Dataset 분리 (80:20)"
   ]
  },
  {
   "cell_type": "code",
   "execution_count": 204,
   "metadata": {
    "id": "Wn4Vb0kxZV6N"
   },
   "outputs": [],
   "source": [
    "train_dataset = df2.sample(frac=0.8, random_state=0)\n",
    "test_dataset = df2.drop(train_dataset.index)"
   ]
  },
  {
   "cell_type": "code",
   "execution_count": 205,
   "metadata": {
    "id": "Byt4h4PZfzmw"
   },
   "outputs": [],
   "source": [
    "train_labels = train_dataset.pop(\"tmax\")\n",
    "test_labels = test_dataset.pop(\"tmax\")"
   ]
  },
  {
   "cell_type": "markdown",
   "metadata": {
    "id": "B_Q62WS-g88P"
   },
   "source": [
    "1-3. Reshape the input data"
   ]
  },
  {
   "cell_type": "code",
   "execution_count": 206,
   "metadata": {
    "id": "pRtkhBQIgXYA"
   },
   "outputs": [],
   "source": [
    "train_reshape = train_dataset.values.reshape(40, 73, 1)\n",
    "label_reshape = train_labels.values.reshape(40, 1, 1)\n",
    "test_reshape = test_dataset.values.reshape(10, 73, 1)\n",
    "testlabel_reshape = test_labels.values.reshape(10, 1, 1)"
   ]
  },
  {
   "cell_type": "markdown",
   "metadata": {
    "id": "fXuOSeANrMlk"
   },
   "source": [
    "## **2. Convolution Neural Network Analysis**"
   ]
  },
  {
   "cell_type": "markdown",
   "metadata": {
    "id": "XvokfYsVJ1kh"
   },
   "source": [
    "**2-1. Neural Network Model**"
   ]
  },
  {
   "cell_type": "code",
   "execution_count": 81,
   "metadata": {
    "id": "hHdMRnV7abn2"
   },
   "outputs": [],
   "source": [
    "import tensorflow as tf\n",
    "from tensorflow import keras\n",
    "from tensorflow.keras import layers, models, optimizers"
   ]
  },
  {
   "cell_type": "code",
   "execution_count": null,
   "metadata": {
    "id": "D6Aoe43UyoeK"
   },
   "outputs": [],
   "source": [
    "class PrintDot(keras.callbacks.Callback):\n",
    "  def on_epoch_end(self, epoch, logs):\n",
    "    if epoch % 100 == 0: print('')\n",
    "    print('.', end='')"
   ]
  },
  {
   "cell_type": "code",
   "execution_count": 217,
   "metadata": {
    "id": "hKTxCj06i3UM"
   },
   "outputs": [],
   "source": [
    "def build_model():\n",
    " model = keras.Sequential([\n",
    "   layers.Dense(64, activation='relu', input_shape=[len(train_dataset.keys())]),\n",
    "   layers.Dense(64, activation='relu'),\n",
    "   layers.Dense(64, activation='relu'),\n",
    "   layers.Dense(1)\n",
    " ])\n",
    " optimizer = tf.keras.optimizers.RMSprop(0.001)\n",
    " model.compile(loss='mse',\n",
    "               optimizer='Adam',\n",
    "               metrics=['mae', 'mse'])\n",
    " return model"
   ]
  },
  {
   "cell_type": "code",
   "execution_count": 218,
   "metadata": {
    "id": "kXizJGafwALT"
   },
   "outputs": [],
   "source": [
    "model = build_model()"
   ]
  },
  {
   "cell_type": "code",
   "execution_count": 220,
   "metadata": {
    "colab": {
     "base_uri": "https://localhost:8080/"
    },
    "id": "jRQKK1T_wEf4",
    "outputId": "2c6aacdc-4133-4bfa-8613-e24442ccf7e8"
   },
   "outputs": [
    {
     "name": "stdout",
     "output_type": "stream",
     "text": [
      "Model: \"sequential_25\"\n",
      "_________________________________________________________________\n",
      "Layer (type)                 Output Shape              Param #   \n",
      "=================================================================\n",
      "dense_56 (Dense)             (None, 64)                4736      \n",
      "_________________________________________________________________\n",
      "dense_57 (Dense)             (None, 64)                4160      \n",
      "_________________________________________________________________\n",
      "dense_58 (Dense)             (None, 64)                4160      \n",
      "_________________________________________________________________\n",
      "dense_59 (Dense)             (None, 1)                 65        \n",
      "=================================================================\n",
      "Total params: 13,121\n",
      "Trainable params: 13,121\n",
      "Non-trainable params: 0\n",
      "_________________________________________________________________\n"
     ]
    }
   ],
   "source": [
    "model.summary()"
   ]
  },
  {
   "cell_type": "code",
   "execution_count": 238,
   "metadata": {
    "colab": {
     "base_uri": "https://localhost:8080/"
    },
    "id": "5euXng8Qi4kN",
    "outputId": "34232d6d-8b66-4fad-a25c-bfed6d0bc561"
   },
   "outputs": [
    {
     "name": "stdout",
     "output_type": "stream",
     "text": [
      "\n",
      "...................................................................................................."
     ]
    }
   ],
   "source": [
    "history2 = model.fit(train_dataset, train_labels, epochs=100, validation_split = 0.3, verbose=0, callbacks=[PrintDot()])"
   ]
  },
  {
   "cell_type": "code",
   "execution_count": 239,
   "metadata": {
    "colab": {
     "base_uri": "https://localhost:8080/",
     "height": 362
    },
    "id": "Y-2HRmeCjEbv",
    "outputId": "b0a8bd36-3b4f-4152-f69c-8ac08125f01b"
   },
   "outputs": [
    {
     "data": {
      "image/png": "[encoded data removed]",
      "text/plain": [
       "<Figure size 576x864 with 1 Axes>"
      ]
     },
     "metadata": {
      "needs_background": "light",
      "tags": []
     },
     "output_type": "display_data"
    }
   ],
   "source": [
    "import matplotlib.pyplot as plt\n",
    "\n",
    "def plot_history(history):\n",
    "  hist = pd.DataFrame(history.history)\n",
    "  hist['epoch'] = history.epoch\n",
    "  plt.figure(figsize=(8,12))\n",
    "  plt.subplot(2,1,1)\n",
    "  plt.xlabel('Epoch')\n",
    "  plt.ylabel('Mean Abs Error [Tmax]')\n",
    "  plt.plot(hist['epoch'], hist['mae'], label='Train Error')\n",
    "  plt.plot(hist['epoch'], hist['val_mae'], label = 'Val Error')\n",
    "  plt.ylim([0,30])\n",
    "  plt.legend()\n",
    "\n",
    "plot_history(history2)"
   ]
  },
  {
   "cell_type": "code",
   "execution_count": 255,
   "metadata": {
    "colab": {
     "base_uri": "https://localhost:8080/"
    },
    "id": "rDU5GmOxzEri",
    "outputId": "898c0277-4c24-4652-e373-1404e46c3049"
   },
   "outputs": [
    {
     "name": "stdout",
     "output_type": "stream",
     "text": [
      "1/1 - 0s - loss: 105.7284 - mae: 5.7479 - mse: 105.7284\n",
      "테스트 셋의 평균 오차 :  5.75 Tmax\n"
     ]
    }
   ],
   "source": [
    "loss, mae, mse = model.evaluate(test_dataset, test_labels, verbose=2)\n",
    "print(\"테스트 셋의 평균 오차 : {:5.2f} Tmax\".format(mae))"
   ]
  },
  {
   "cell_type": "code",
   "execution_count": 259,
   "metadata": {
    "colab": {
     "base_uri": "https://localhost:8080/",
     "height": 283
    },
    "id": "oo9qChK3q05E",
    "outputId": "cbf38513-f16e-4687-ce14-1ed9c6bf9ac3"
   },
   "outputs": [
    {
     "data": {
      "image/png": "[encoded data removed]",
      "text/plain": [
       "<Figure size 432x288 with 1 Axes>"
      ]
     },
     "metadata": {
      "needs_background": "light",
      "tags": []
     },
     "output_type": "display_data"
    }
   ],
   "source": [
    "test_predictions = model.predict(test_dataset).flatten()\n",
    "\n",
    "plt.scatter(test_labels, test_predictions)\n",
    "plt.xlabel('True Values [Tmax]')\n",
    "plt.ylabel('Predictions [Tmax]')\n",
    "plt.axis('equal')\n",
    "plt.axis('square')\n",
    "plt.xlim(10,30)\n",
    "plt.ylim(10,30)\n",
    "_ = plt.plot([-100, 100], [-100, 100])"
   ]
  },
  {
   "cell_type": "code",
   "execution_count": null,
   "metadata": {
    "id": "oKZRI3xhs1IF"
   },
   "outputs": [],
   "source": []
  },
  {
   "cell_type": "markdown",
   "metadata": {
    "id": "5_6k8rtqs1go"
   },
   "source": [
    "**2-2. 1D Convolutional Neural Network Model**"
   ]
  },
  {
   "cell_type": "code",
   "execution_count": 248,
   "metadata": {
    "id": "I2v6Q6ez-W_X"
   },
   "outputs": [],
   "source": [
    "def build_cnn_model():\n",
    " model = keras.Sequential([\n",
    "   layers.Conv1D(filters = 64, kernel_size = 10, activation='relu', input_shape=(73, 1)),\n",
    "   layers.Conv1D(filters = 32, kernel_size = 5, activation='relu'),\n",
    "   layers.Conv1D(filters = 16, kernel_size = 3, activation='relu'),\n",
    "   layers.MaxPooling1D(2),\n",
    "   layers.Flatten(),\n",
    "   layers.Dense(10, activation='relu'),\n",
    "\n",
    "   layers.Dense(1)\n",
    " ])\n",
    "\n",
    " optimizer = tf.keras.optimizers.RMSprop(0.001)\n",
    " model.compile(loss='mse',\n",
    "               optimizer='Adam',\n",
    "               metrics=['mae', 'mse'])\n",
    " return model"
   ]
  },
  {
   "cell_type": "code",
   "execution_count": 250,
   "metadata": {
    "colab": {
     "base_uri": "https://localhost:8080/"
    },
    "id": "sKYqhyYXx14s",
    "outputId": "7d3a478b-5904-408b-e463-d26d9a49f5a2"
   },
   "outputs": [
    {
     "name": "stdout",
     "output_type": "stream",
     "text": [
      "Model: \"sequential_30\"\n",
      "_________________________________________________________________\n",
      "Layer (type)                 Output Shape              Param #   \n",
      "=================================================================\n",
      "conv1d_64 (Conv1D)           (None, 64, 64)            704       \n",
      "_________________________________________________________________\n",
      "conv1d_65 (Conv1D)           (None, 60, 32)            10272     \n",
      "_________________________________________________________________\n",
      "conv1d_66 (Conv1D)           (None, 58, 16)            1552      \n",
      "_________________________________________________________________\n",
      "max_pooling1d_48 (MaxPooling (None, 29, 16)            0         \n",
      "_________________________________________________________________\n",
      "flatten_20 (Flatten)         (None, 464)               0         \n",
      "_________________________________________________________________\n",
      "dense_68 (Dense)             (None, 10)                4650      \n",
      "_________________________________________________________________\n",
      "dense_69 (Dense)             (None, 1)                 11        \n",
      "=================================================================\n",
      "Total params: 17,189\n",
      "Trainable params: 17,189\n",
      "Non-trainable params: 0\n",
      "_________________________________________________________________\n"
     ]
    }
   ],
   "source": [
    "cnn_model = build_cnn_model()\n",
    "cnn_model.summary()"
   ]
  },
  {
   "cell_type": "code",
   "execution_count": 251,
   "metadata": {
    "colab": {
     "base_uri": "https://localhost:8080/"
    },
    "id": "y2Rigl4-RyvX",
    "outputId": "01c2c5cd-264a-4697-ac44-fc2e95a05bba"
   },
   "outputs": [
    {
     "name": "stdout",
     "output_type": "stream",
     "text": [
      "\n",
      "....................................................................................................\n",
      "....................................................................................................\n",
      "....................................................................................................\n",
      "....................................................................................................\n",
      "....................................................................................................\n",
      "....................................................................................................\n",
      "....................................................................................................\n",
      "....................................................................................................\n",
      "....................................................................................................\n",
      "....................................................................................................\n",
      "....................................................................................................\n",
      "....................................................................................................\n",
      "....................................................................................................\n",
      "....................................................................................................\n",
      "....................................................................................................\n",
      "....................................................................................................\n",
      "....................................................................................................\n",
      "....................................................................................................\n",
      "....................................................................................................\n",
      "....................................................................................................\n",
      "....................................................................................................\n",
      "....................................................................................................\n",
      "....................................................................................................\n",
      "....................................................................................................\n",
      "....................................................................................................\n",
      "....................................................................................................\n",
      "....................................................................................................\n",
      "....................................................................................................\n",
      "....................................................................................................\n",
      "...................................................................................................."
     ]
    }
   ],
   "source": [
    "cnn_history = cnn_model.fit(train_reshape, label_reshape, epochs=3000, validation_split = 0.3, verbose=0, callbacks=[PrintDot()])"
   ]
  },
  {
   "cell_type": "code",
   "execution_count": 252,
   "metadata": {
    "colab": {
     "base_uri": "https://localhost:8080/",
     "height": 362
    },
    "id": "DJ5K8ItQSLPz",
    "outputId": "1fc01f28-cb03-4cab-c12f-6a32fe02076c"
   },
   "outputs": [
    {
     "data": {
      "image/png": "[encoded data removed]",
      "text/plain": [
       "<Figure size 576x864 with 1 Axes>"
      ]
     },
     "metadata": {
      "needs_background": "light",
      "tags": []
     },
     "output_type": "display_data"
    }
   ],
   "source": [
    "plot_history(cnn_history)"
   ]
  },
  {
   "cell_type": "code",
   "execution_count": 254,
   "metadata": {
    "colab": {
     "base_uri": "https://localhost:8080/"
    },
    "id": "O1s3zPivnQbw",
    "outputId": "ab32c6cd-8ac1-4434-976b-e7c90672e6fe"
   },
   "outputs": [
    {
     "name": "stdout",
     "output_type": "stream",
     "text": [
      "1/1 - 0s - loss: 13.6958 - mae: 2.6384 - mse: 13.6958\n",
      "테스트 셋의 평균 오차 :  2.64 Tmax\n"
     ]
    }
   ],
   "source": [
    "loss, mae, mse = cnn_model.evaluate(test_reshape, testlabel_reshape, verbose=2)\n",
    "print(\"테스트 셋의 평균 오차 : {:5.2f} Tmax\".format(mae))"
   ]
  },
  {
   "cell_type": "code",
   "execution_count": 260,
   "metadata": {
    "colab": {
     "base_uri": "https://localhost:8080/",
     "height": 283
    },
    "id": "eSt7dKDFzNwV",
    "outputId": "7204f3e7-7277-4c69-e1da-b9c34781341f"
   },
   "outputs": [
    {
     "data": {
      "image/png": "[encoded data removed]",
      "text/plain": [
       "<Figure size 432x288 with 1 Axes>"
      ]
     },
     "metadata": {
      "needs_background": "light",
      "tags": []
     },
     "output_type": "display_data"
    }
   ],
   "source": [
    "test_cnn_predictions = cnn_model.predict(test_reshape).flatten()\n",
    "\n",
    "plt.scatter(test_labels, test_cnn_predictions)\n",
    "plt.xlabel('True Values [Tmax]')\n",
    "plt.ylabel('Predictions [Tmax]')\n",
    "plt.axis('equal')\n",
    "plt.axis('square')\n",
    "plt.xlim(10,30)\n",
    "plt.ylim(10,30)\n",
    "_ = plt.plot([-100, 100], [-100, 100])"
   ]
  },
  {
   "cell_type": "code",
   "execution_count": null,
   "metadata": {
    "colab": {
     "base_uri": "https://localhost:8080/",
     "height": 17
    },
    "id": "SaMiBKEPOd_L",
    "outputId": "7a1d71c7-8fc8-4428-9094-6361e437ddcb"
   },
   "outputs": [
    {
     "data": {
      "application/javascript": [
       "\n",
       "    async function download(id, filename, size) {\n",
       "      if (!google.colab.kernel.accessAllowed) {\n",
       "        return;\n",
       "      }\n",
       "      const div = document.createElement('div');\n",
       "      const label = document.createElement('label');\n",
       "      label.textContent = `Downloading \"${filename}\": `;\n",
       "      div.appendChild(label);\n",
       "      const progress = document.createElement('progress');\n",
       "      progress.max = size;\n",
       "      div.appendChild(progress);\n",
       "      document.body.appendChild(div);\n",
       "\n",
       "      const buffers = [];\n",
       "      let downloaded = 0;\n",
       "\n",
       "      const channel = await google.colab.kernel.comms.open(id);\n",
       "      // Send a message to notify the kernel that we're ready.\n",
       "      channel.send({})\n",
       "\n",
       "      for await (const message of channel.messages) {\n",
       "        // Send a message to notify the kernel that we're ready.\n",
       "        channel.send({})\n",
       "        if (message.buffers) {\n",
       "          for (const buffer of message.buffers) {\n",
       "            buffers.push(buffer);\n",
       "            downloaded += buffer.byteLength;\n",
       "            progress.value = downloaded;\n",
       "          }\n",
       "        }\n",
       "      }\n",
       "      const blob = new Blob(buffers, {type: 'application/binary'});\n",
       "      const a = document.createElement('a');\n",
       "      a.href = window.URL.createObjectURL(blob);\n",
       "      a.download = filename;\n",
       "      div.appendChild(a);\n",
       "      a.click();\n",
       "      div.remove();\n",
       "    }\n",
       "  "
      ],
      "text/plain": [
       "<IPython.core.display.Javascript object>"
      ]
     },
     "metadata": {
      "tags": []
     },
     "output_type": "display_data"
    },
    {
     "data": {
      "application/javascript": [
       "download(\"download_7bfa463c-a164-438f-a303-e4847bd24a36\", \"cnn_model2.h5\", 7079424)"
      ],
      "text/plain": [
       "<IPython.core.display.Javascript object>"
      ]
     },
     "metadata": {
      "tags": []
     },
     "output_type": "display_data"
    }
   ],
   "source": [
    "from google.colab import files\n",
    "\n",
    "model4.save(\"cnn_model.h5\")\n",
    "files.download('cnn_model.h5')"
   ]
  },
  {
   "cell_type": "code",
   "execution_count": null,
   "metadata": {
    "id": "IopPHK6M0aau"
   },
   "outputs": [],
   "source": []
  }
 ],
 "metadata": {
  "colab": {
   "collapsed_sections": [],
   "name": "mixing_chart.ipynb",
   "provenance": [],
   "toc_visible": true
  },
  "kernelspec": {
   "display_name": "Python 3",
   "language": "python",
   "name": "python3"
  },
  "language_info": {
   "codemirror_mode": {
    "name": "ipython",
    "version": 3
   },
   "file_extension": ".py",
   "mimetype": "text/x-python",
   "name": "python",
   "nbconvert_exporter": "python",
   "pygments_lexer": "ipython3",
   "version": "3.6.5"
  }
 },
 "nbformat": 4,
 "nbformat_minor": 1
}
